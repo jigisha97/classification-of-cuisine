{
  "nbformat": 4,
  "nbformat_minor": 0,
  "metadata": {
    "colab": {
      "name": "Stock Market Analysis.ipynb",
      "provenance": [],
      "collapsed_sections": [],
      "toc_visible": true
    },
    "kernelspec": {
      "name": "python3",
      "display_name": "Python 3"
    }
  },
  "cells": [
    {
      "cell_type": "markdown",
      "metadata": {
        "id": "sfVvvzzcBuaC"
      },
      "source": [
        "# **Stock Market Analysis**"
      ]
    },
    {
      "cell_type": "code",
      "metadata": {
        "colab": {
          "base_uri": "https://localhost:8080/"
        },
        "id": "gsu4ACNhK8yO",
        "outputId": "ca348397-3fa4-4c6b-903e-039575f4184b"
      },
      "source": [
        "pip install Yahoo-ticker-downloader"
      ],
      "execution_count": null,
      "outputs": [
        {
          "output_type": "stream",
          "text": [
            "Collecting Yahoo-ticker-downloader\n",
            "  Downloading https://files.pythonhosted.org/packages/26/c6/012180ba63223f39bfea186f04e19840381a9bc22a2fc15a7aecb0b8d90d/Yahoo-ticker-downloader-3.0.1.tar.gz\n",
            "Requirement already satisfied: requests>=2.4.3 in /usr/local/lib/python3.6/dist-packages (from Yahoo-ticker-downloader) (2.23.0)\n",
            "Collecting tablib>=0.9.11\n",
            "\u001b[?25l  Downloading https://files.pythonhosted.org/packages/16/85/078fc037b15aa1120d6a0287ec9d092d93d632ab01a0e7a3e69b4733da5e/tablib-3.0.0-py3-none-any.whl (47kB)\n",
            "\u001b[K     |████████████████████████████████| 51kB 2.6MB/s \n",
            "\u001b[?25hCollecting backports.csv>=1.0.4\n",
            "  Downloading https://files.pythonhosted.org/packages/8e/26/a6bd68f13e0f38fbb643d6e497fc3462be83a0b6c4d43425c78bb51a7291/backports.csv-1.0.7-py2.py3-none-any.whl\n",
            "Requirement already satisfied: chardet<4,>=3.0.2 in /usr/local/lib/python3.6/dist-packages (from requests>=2.4.3->Yahoo-ticker-downloader) (3.0.4)\n",
            "Requirement already satisfied: certifi>=2017.4.17 in /usr/local/lib/python3.6/dist-packages (from requests>=2.4.3->Yahoo-ticker-downloader) (2020.12.5)\n",
            "Requirement already satisfied: idna<3,>=2.5 in /usr/local/lib/python3.6/dist-packages (from requests>=2.4.3->Yahoo-ticker-downloader) (2.10)\n",
            "Requirement already satisfied: urllib3!=1.25.0,!=1.25.1,<1.26,>=1.21.1 in /usr/local/lib/python3.6/dist-packages (from requests>=2.4.3->Yahoo-ticker-downloader) (1.24.3)\n",
            "Building wheels for collected packages: Yahoo-ticker-downloader\n",
            "  Building wheel for Yahoo-ticker-downloader (setup.py) ... \u001b[?25l\u001b[?25hdone\n",
            "  Created wheel for Yahoo-ticker-downloader: filename=Yahoo_ticker_downloader-3.0.1-cp36-none-any.whl size=10184 sha256=9324d53eab93d7b386887b1a2f27b32c84bfd55ca7a68e31e9a8b11bc3ca4895\n",
            "  Stored in directory: /root/.cache/pip/wheels/8f/8c/49/2f945a8ef86a6301584099c6a92ec9b40498e497517abb01a0\n",
            "Successfully built Yahoo-ticker-downloader\n",
            "Installing collected packages: tablib, backports.csv, Yahoo-ticker-downloader\n",
            "Successfully installed Yahoo-ticker-downloader-3.0.1 backports.csv-1.0.7 tablib-3.0.0\n"
          ],
          "name": "stdout"
        }
      ]
    },
    {
      "cell_type": "code",
      "metadata": {
        "colab": {
          "base_uri": "https://localhost:8080/"
        },
        "id": "DzrbuUVQLudy",
        "outputId": "74d52ed9-1952-43a5-bf96-c6447ed6a47f"
      },
      "source": [
        "pip install yahoo-finance"
      ],
      "execution_count": null,
      "outputs": [
        {
          "output_type": "stream",
          "text": [
            "Collecting yahoo-finance\n",
            "  Downloading https://files.pythonhosted.org/packages/7c/8c/61e2250dd88a22a3156c2b44fd021140bf984b49800584cb0372193a116a/yahoo-finance-1.4.0.tar.gz\n",
            "Requirement already satisfied: pytz in /usr/local/lib/python3.6/dist-packages (from yahoo-finance) (2018.9)\n",
            "Collecting simplejson\n",
            "\u001b[?25l  Downloading https://files.pythonhosted.org/packages/73/96/1e6b19045375890068d7342cbe280dd64ae73fd90b9735b5efb8d1e044a1/simplejson-3.17.2-cp36-cp36m-manylinux2010_x86_64.whl (127kB)\n",
            "\u001b[K     |████████████████████████████████| 133kB 5.2MB/s \n",
            "\u001b[?25hBuilding wheels for collected packages: yahoo-finance\n",
            "  Building wheel for yahoo-finance (setup.py) ... \u001b[?25l\u001b[?25hdone\n",
            "  Created wheel for yahoo-finance: filename=yahoo_finance-1.4.0-cp36-none-any.whl size=7234 sha256=40e26477bec620dc588ef0523d88423138e37538d960ddfb5ea2a76b7acfeae5\n",
            "  Stored in directory: /root/.cache/pip/wheels/58/77/5b/66026e0fa7af2ee5926a516a70d3df95e17f952c570bc5aee6\n",
            "Successfully built yahoo-finance\n",
            "Installing collected packages: simplejson, yahoo-finance\n",
            "Successfully installed simplejson-3.17.2 yahoo-finance-1.4.0\n"
          ],
          "name": "stdout"
        }
      ]
    },
    {
      "cell_type": "code",
      "metadata": {
        "id": "VYYNDzCJmIvm"
      },
      "source": [
        "from pandas_datareader import DataReader,wb\r\n",
        "import pandas as pd\r\n",
        "import numpy as np\r\n",
        "import matplotlib.pyplot as plt\r\n",
        "import seaborn as sns\r\n",
        "import math\r\n",
        "import matplotlib.style as style\r\n",
        "style.use('dark_background')\r\n",
        "sns.set_style('whitegrid')\r\n",
        "\r\n",
        "from sklearn.preprocessing import MinMaxScaler\r\n",
        "from datetime import datetime\r\n",
        "from keras.models import Sequential\r\n",
        "from keras.layers import Dense, LSTM"
      ],
      "execution_count": null,
      "outputs": []
    },
    {
      "cell_type": "code",
      "metadata": {
        "id": "bu5lRRB7mLKI"
      },
      "source": [
        "#list of stocks used for analysis\r\n",
        "stock_list = ['AAPL']\r\n",
        "\r\n",
        "#inserting date\r\n",
        "end_date = datetime.now()\r\n",
        "start_date = datetime(2010, 1, 1)\r\n",
        "\r\n",
        "#collecting data from web\r\n",
        "for stock in stock_list:\r\n",
        "  X = DataReader('AAPL','yahoo', start_date, end_date)"
      ],
      "execution_count": null,
      "outputs": []
    },
    {
      "cell_type": "code",
      "metadata": {
        "colab": {
          "base_uri": "https://localhost:8080/",
          "height": 450
        },
        "id": "Y4QNmB0HtbmJ",
        "outputId": "363df1c4-4474-49f2-e360-eaf5baaa09a6"
      },
      "source": [
        "#viewdata\r\n",
        "X"
      ],
      "execution_count": null,
      "outputs": [
        {
          "output_type": "execute_result",
          "data": {
            "text/html": [
              "<div>\n",
              "<style scoped>\n",
              "    .dataframe tbody tr th:only-of-type {\n",
              "        vertical-align: middle;\n",
              "    }\n",
              "\n",
              "    .dataframe tbody tr th {\n",
              "        vertical-align: top;\n",
              "    }\n",
              "\n",
              "    .dataframe thead th {\n",
              "        text-align: right;\n",
              "    }\n",
              "</style>\n",
              "<table border=\"1\" class=\"dataframe\">\n",
              "  <thead>\n",
              "    <tr style=\"text-align: right;\">\n",
              "      <th></th>\n",
              "      <th>High</th>\n",
              "      <th>Low</th>\n",
              "      <th>Open</th>\n",
              "      <th>Close</th>\n",
              "      <th>Volume</th>\n",
              "      <th>Adj Close</th>\n",
              "    </tr>\n",
              "    <tr>\n",
              "      <th>Date</th>\n",
              "      <th></th>\n",
              "      <th></th>\n",
              "      <th></th>\n",
              "      <th></th>\n",
              "      <th></th>\n",
              "      <th></th>\n",
              "    </tr>\n",
              "  </thead>\n",
              "  <tbody>\n",
              "    <tr>\n",
              "      <th>2010-01-04</th>\n",
              "      <td>7.660714</td>\n",
              "      <td>7.585000</td>\n",
              "      <td>7.622500</td>\n",
              "      <td>7.643214</td>\n",
              "      <td>493729600.0</td>\n",
              "      <td>6.593423</td>\n",
              "    </tr>\n",
              "    <tr>\n",
              "      <th>2010-01-05</th>\n",
              "      <td>7.699643</td>\n",
              "      <td>7.616071</td>\n",
              "      <td>7.664286</td>\n",
              "      <td>7.656429</td>\n",
              "      <td>601904800.0</td>\n",
              "      <td>6.604822</td>\n",
              "    </tr>\n",
              "    <tr>\n",
              "      <th>2010-01-06</th>\n",
              "      <td>7.686786</td>\n",
              "      <td>7.526786</td>\n",
              "      <td>7.656429</td>\n",
              "      <td>7.534643</td>\n",
              "      <td>552160000.0</td>\n",
              "      <td>6.499765</td>\n",
              "    </tr>\n",
              "    <tr>\n",
              "      <th>2010-01-07</th>\n",
              "      <td>7.571429</td>\n",
              "      <td>7.466071</td>\n",
              "      <td>7.562500</td>\n",
              "      <td>7.520714</td>\n",
              "      <td>477131200.0</td>\n",
              "      <td>6.487749</td>\n",
              "    </tr>\n",
              "    <tr>\n",
              "      <th>2010-01-08</th>\n",
              "      <td>7.571429</td>\n",
              "      <td>7.466429</td>\n",
              "      <td>7.510714</td>\n",
              "      <td>7.570714</td>\n",
              "      <td>447610800.0</td>\n",
              "      <td>6.530882</td>\n",
              "    </tr>\n",
              "    <tr>\n",
              "      <th>...</th>\n",
              "      <td>...</td>\n",
              "      <td>...</td>\n",
              "      <td>...</td>\n",
              "      <td>...</td>\n",
              "      <td>...</td>\n",
              "      <td>...</td>\n",
              "    </tr>\n",
              "    <tr>\n",
              "      <th>2021-01-25</th>\n",
              "      <td>145.089996</td>\n",
              "      <td>136.539993</td>\n",
              "      <td>143.070007</td>\n",
              "      <td>142.919998</td>\n",
              "      <td>157611700.0</td>\n",
              "      <td>142.919998</td>\n",
              "    </tr>\n",
              "    <tr>\n",
              "      <th>2021-01-26</th>\n",
              "      <td>144.300003</td>\n",
              "      <td>141.369995</td>\n",
              "      <td>143.600006</td>\n",
              "      <td>143.160004</td>\n",
              "      <td>98390600.0</td>\n",
              "      <td>143.160004</td>\n",
              "    </tr>\n",
              "    <tr>\n",
              "      <th>2021-01-27</th>\n",
              "      <td>144.300003</td>\n",
              "      <td>140.410004</td>\n",
              "      <td>143.429993</td>\n",
              "      <td>142.059998</td>\n",
              "      <td>140843800.0</td>\n",
              "      <td>142.059998</td>\n",
              "    </tr>\n",
              "    <tr>\n",
              "      <th>2021-01-28</th>\n",
              "      <td>141.990005</td>\n",
              "      <td>136.699997</td>\n",
              "      <td>139.520004</td>\n",
              "      <td>137.089996</td>\n",
              "      <td>142621100.0</td>\n",
              "      <td>137.089996</td>\n",
              "    </tr>\n",
              "    <tr>\n",
              "      <th>2021-01-29</th>\n",
              "      <td>136.740005</td>\n",
              "      <td>130.210007</td>\n",
              "      <td>135.830002</td>\n",
              "      <td>131.960007</td>\n",
              "      <td>177180600.0</td>\n",
              "      <td>131.960007</td>\n",
              "    </tr>\n",
              "  </tbody>\n",
              "</table>\n",
              "<p>2788 rows × 6 columns</p>\n",
              "</div>"
            ],
            "text/plain": [
              "                  High         Low  ...       Volume   Adj Close\n",
              "Date                                ...                         \n",
              "2010-01-04    7.660714    7.585000  ...  493729600.0    6.593423\n",
              "2010-01-05    7.699643    7.616071  ...  601904800.0    6.604822\n",
              "2010-01-06    7.686786    7.526786  ...  552160000.0    6.499765\n",
              "2010-01-07    7.571429    7.466071  ...  477131200.0    6.487749\n",
              "2010-01-08    7.571429    7.466429  ...  447610800.0    6.530882\n",
              "...                ...         ...  ...          ...         ...\n",
              "2021-01-25  145.089996  136.539993  ...  157611700.0  142.919998\n",
              "2021-01-26  144.300003  141.369995  ...   98390600.0  143.160004\n",
              "2021-01-27  144.300003  140.410004  ...  140843800.0  142.059998\n",
              "2021-01-28  141.990005  136.699997  ...  142621100.0  137.089996\n",
              "2021-01-29  136.740005  130.210007  ...  177180600.0  131.960007\n",
              "\n",
              "[2788 rows x 6 columns]"
            ]
          },
          "metadata": {
            "tags": []
          },
          "execution_count": 5
        }
      ]
    },
    {
      "cell_type": "code",
      "metadata": {
        "colab": {
          "base_uri": "https://localhost:8080/",
          "height": 297
        },
        "id": "7VppSZo6zuoE",
        "outputId": "c17c8bb9-d7c4-4108-a798-1acd4a6e1aab"
      },
      "source": [
        "#description of the data\r\n",
        "X.describe()"
      ],
      "execution_count": null,
      "outputs": [
        {
          "output_type": "execute_result",
          "data": {
            "text/html": [
              "<div>\n",
              "<style scoped>\n",
              "    .dataframe tbody tr th:only-of-type {\n",
              "        vertical-align: middle;\n",
              "    }\n",
              "\n",
              "    .dataframe tbody tr th {\n",
              "        vertical-align: top;\n",
              "    }\n",
              "\n",
              "    .dataframe thead th {\n",
              "        text-align: right;\n",
              "    }\n",
              "</style>\n",
              "<table border=\"1\" class=\"dataframe\">\n",
              "  <thead>\n",
              "    <tr style=\"text-align: right;\">\n",
              "      <th></th>\n",
              "      <th>High</th>\n",
              "      <th>Low</th>\n",
              "      <th>Open</th>\n",
              "      <th>Close</th>\n",
              "      <th>Volume</th>\n",
              "      <th>Adj Close</th>\n",
              "    </tr>\n",
              "  </thead>\n",
              "  <tbody>\n",
              "    <tr>\n",
              "      <th>count</th>\n",
              "      <td>2788.000000</td>\n",
              "      <td>2788.000000</td>\n",
              "      <td>2788.000000</td>\n",
              "      <td>2788.000000</td>\n",
              "      <td>2.788000e+03</td>\n",
              "      <td>2788.000000</td>\n",
              "    </tr>\n",
              "    <tr>\n",
              "      <th>mean</th>\n",
              "      <td>34.802235</td>\n",
              "      <td>34.078443</td>\n",
              "      <td>34.441346</td>\n",
              "      <td>34.453981</td>\n",
              "      <td>2.854676e+08</td>\n",
              "      <td>32.807731</td>\n",
              "    </tr>\n",
              "    <tr>\n",
              "      <th>std</th>\n",
              "      <td>26.167874</td>\n",
              "      <td>25.441059</td>\n",
              "      <td>25.810433</td>\n",
              "      <td>25.818686</td>\n",
              "      <td>2.285956e+08</td>\n",
              "      <td>26.312509</td>\n",
              "    </tr>\n",
              "    <tr>\n",
              "      <th>min</th>\n",
              "      <td>7.000000</td>\n",
              "      <td>6.794643</td>\n",
              "      <td>6.870357</td>\n",
              "      <td>6.858929</td>\n",
              "      <td>4.544800e+07</td>\n",
              "      <td>5.916859</td>\n",
              "    </tr>\n",
              "    <tr>\n",
              "      <th>25%</th>\n",
              "      <td>17.764732</td>\n",
              "      <td>17.390625</td>\n",
              "      <td>17.568304</td>\n",
              "      <td>17.553572</td>\n",
              "      <td>1.203958e+08</td>\n",
              "      <td>15.491585</td>\n",
              "    </tr>\n",
              "    <tr>\n",
              "      <th>50%</th>\n",
              "      <td>27.331250</td>\n",
              "      <td>26.832500</td>\n",
              "      <td>27.143750</td>\n",
              "      <td>27.117500</td>\n",
              "      <td>2.015364e+08</td>\n",
              "      <td>25.139590</td>\n",
              "    </tr>\n",
              "    <tr>\n",
              "      <th>75%</th>\n",
              "      <td>43.613126</td>\n",
              "      <td>42.915624</td>\n",
              "      <td>43.209375</td>\n",
              "      <td>43.206876</td>\n",
              "      <td>3.876110e+08</td>\n",
              "      <td>41.853470</td>\n",
              "    </tr>\n",
              "    <tr>\n",
              "      <th>max</th>\n",
              "      <td>145.089996</td>\n",
              "      <td>141.369995</td>\n",
              "      <td>143.600006</td>\n",
              "      <td>143.160004</td>\n",
              "      <td>1.880998e+09</td>\n",
              "      <td>143.160004</td>\n",
              "    </tr>\n",
              "  </tbody>\n",
              "</table>\n",
              "</div>"
            ],
            "text/plain": [
              "              High          Low  ...        Volume    Adj Close\n",
              "count  2788.000000  2788.000000  ...  2.788000e+03  2788.000000\n",
              "mean     34.802235    34.078443  ...  2.854676e+08    32.807731\n",
              "std      26.167874    25.441059  ...  2.285956e+08    26.312509\n",
              "min       7.000000     6.794643  ...  4.544800e+07     5.916859\n",
              "25%      17.764732    17.390625  ...  1.203958e+08    15.491585\n",
              "50%      27.331250    26.832500  ...  2.015364e+08    25.139590\n",
              "75%      43.613126    42.915624  ...  3.876110e+08    41.853470\n",
              "max     145.089996   141.369995  ...  1.880998e+09   143.160004\n",
              "\n",
              "[8 rows x 6 columns]"
            ]
          },
          "metadata": {
            "tags": []
          },
          "execution_count": 6
        }
      ]
    },
    {
      "cell_type": "code",
      "metadata": {
        "colab": {
          "base_uri": "https://localhost:8080/"
        },
        "id": "BOsF5q1Z031I",
        "outputId": "40219bd2-70c4-45a5-8d63-7093e78c1a23"
      },
      "source": [
        "#information from the data\r\n",
        "X.info()"
      ],
      "execution_count": null,
      "outputs": [
        {
          "output_type": "stream",
          "text": [
            "<class 'pandas.core.frame.DataFrame'>\n",
            "DatetimeIndex: 2788 entries, 2010-01-04 to 2021-01-29\n",
            "Data columns (total 6 columns):\n",
            " #   Column     Non-Null Count  Dtype  \n",
            "---  ------     --------------  -----  \n",
            " 0   High       2788 non-null   float64\n",
            " 1   Low        2788 non-null   float64\n",
            " 2   Open       2788 non-null   float64\n",
            " 3   Close      2788 non-null   float64\n",
            " 4   Volume     2788 non-null   float64\n",
            " 5   Adj Close  2788 non-null   float64\n",
            "dtypes: float64(6)\n",
            "memory usage: 152.5 KB\n"
          ],
          "name": "stdout"
        }
      ]
    },
    {
      "cell_type": "code",
      "metadata": {
        "colab": {
          "base_uri": "https://localhost:8080/",
          "height": 497
        },
        "id": "hhDWeD49HR1F",
        "outputId": "e654a4ef-8064-4101-b6d1-861503153fa1"
      },
      "source": [
        "#ploting the data of stock exchange\r\n",
        "plt.figure(figsize=(16, 8))\r\n",
        "plt.ylabel('Adj Close')\r\n",
        "plt.xlabel(None)\r\n",
        "plt.title('Stock price history')\r\n",
        "plt.plot(X['Adj Close'])\r\n",
        "plt.show()"
      ],
      "execution_count": null,
      "outputs": [
        {
          "output_type": "display_data",
          "data": {
            "image/png": "[encoded data removed]",
            "text/plain": [
              "<Figure size 1152x576 with 1 Axes>"
            ]
          },
          "metadata": {
            "tags": []
          }
        }
      ]
    },
    {
      "cell_type": "code",
      "metadata": {
        "colab": {
          "base_uri": "https://localhost:8080/"
        },
        "id": "iGk2CUUZNQ6h",
        "outputId": "891ee4ff-3e9c-4476-816c-085f3e0e1c82"
      },
      "source": [
        "#create new dataframe with 'adj close column\r\n",
        "data= X.filter(['Adj Close'])\r\n",
        "#convert dataframe to numpy array\r\n",
        "dataset = data.values\r\n",
        "#creating the training data\r\n",
        "trainData = math.ceil(len(dataset) * .8)\r\n",
        "\r\n",
        "trainData"
      ],
      "execution_count": null,
      "outputs": [
        {
          "output_type": "execute_result",
          "data": {
            "text/plain": [
              "2231"
            ]
          },
          "metadata": {
            "tags": []
          },
          "execution_count": 9
        }
      ]
    },
    {
      "cell_type": "code",
      "metadata": {
        "colab": {
          "base_uri": "https://localhost:8080/"
        },
        "id": "yTv7YHILeku-",
        "outputId": "446b41e5-d5ab-4aed-aad0-c964eb31623c"
      },
      "source": [
        "#Scaling the data\r\n",
        "scaler = MinMaxScaler(feature_range=(0,1))\r\n",
        "scaled_data = scaler.fit_transform(dataset)\r\n",
        "\r\n",
        "scaled_data"
      ],
      "execution_count": null,
      "outputs": [
        {
          "output_type": "execute_result",
          "data": {
            "text/plain": [
              "array([[0.00492968],\n",
              "       [0.00501273],\n",
              "       [0.00424725],\n",
              "       ...,\n",
              "       [0.99198498],\n",
              "       [0.95577187],\n",
              "       [0.91839303]])"
            ]
          },
          "metadata": {
            "tags": []
          },
          "execution_count": 10
        }
      ]
    },
    {
      "cell_type": "code",
      "metadata": {
        "colab": {
          "base_uri": "https://localhost:8080/",
          "height": 129
        },
        "id": "a_jIIdK_fl7a",
        "outputId": "1227ed9b-706e-411c-9592-daf7436593d0"
      },
      "source": [
        "  #create training dataset\r\n",
        "#create scaled training dataset\r\n",
        "trained_data = scaled_data[0:trainData, :]\r\n",
        "\r\n",
        "\r\n",
        "#split the data with xtrain and ytrain\r\n",
        "x_train = [] #independent \r\n",
        "y_train = [] #dependent (target)\r\n",
        "\r\n",
        "for i in range(60, len(trained_data)):\r\n",
        "  x_train.append(trained_data[i-60:i, 0])\r\n",
        "  y_train.append(trained_data[i, 0])\r\n",
        "  if i<= 61:\r\n",
        "    print(x_train)\r\n",
        "    print(y_train)"
      ],
      "execution_count": null,
      "outputs": [
        {
          "output_type": "error",
          "ename": "IndentationError",
          "evalue": "ignored",
          "traceback": [
            "\u001b[0;36m  File \u001b[0;32m\"<ipython-input-18-c79fab317f4a>\"\u001b[0;36m, line \u001b[0;32m11\u001b[0m\n\u001b[0;31m    x_train.append(trained_data[i-60:i, 0])\u001b[0m\n\u001b[0m          ^\u001b[0m\n\u001b[0;31mIndentationError\u001b[0m\u001b[0;31m:\u001b[0m expected an indented block\n"
          ]
        }
      ]
    },
    {
      "cell_type": "code",
      "metadata": {
        "id": "0BmxzqqLg8v7",
        "colab": {
          "base_uri": "https://localhost:8080/"
        },
        "outputId": "0492890b-164b-4510-bc16-cfa38d0d9e5f"
      },
      "source": [
        "#convert training dataset into numpy array\r\n",
        "x_train, y_train =np.array(x_train),np.array(y_train)\r\n",
        "x_train.shape"
      ],
      "execution_count": null,
      "outputs": [
        {
          "output_type": "execute_result",
          "data": {
            "text/plain": [
              "(2160, 60)"
            ]
          },
          "metadata": {
            "tags": []
          },
          "execution_count": 10
        }
      ]
    },
    {
      "cell_type": "code",
      "metadata": {
        "colab": {
          "base_uri": "https://localhost:8080/"
        },
        "id": "twivi0Dwkmqo",
        "outputId": "92734709-f9aa-43a1-cdcc-1338d04d3e58"
      },
      "source": [
        "#reshape the data as numpy model will expect 3-d data\r\n",
        "x_train = np.reshape(x_train,(x_train.shape[0], x_train.shape[1], 1))\r\n",
        "x_train.shape"
      ],
      "execution_count": null,
      "outputs": [
        {
          "output_type": "execute_result",
          "data": {
            "text/plain": [
              "(2160, 60, 1)"
            ]
          },
          "metadata": {
            "tags": []
          },
          "execution_count": 11
        }
      ]
    },
    {
      "cell_type": "code",
      "metadata": {
        "id": "nDDmLwImkt6S"
      },
      "source": [
        "#Building the LSTM model\r\n",
        "model = Sequential()\r\n",
        "model.add(LSTM(50, return_sequences = True, input_shape = (x_train.shape[1], 1)))\r\n",
        "model.add(LSTM(50, return_sequences = False))\r\n",
        "model.add(Dense(25))\r\n",
        "model.add(Dense(1))"
      ],
      "execution_count": null,
      "outputs": []
    },
    {
      "cell_type": "code",
      "metadata": {
        "id": "NKR1R0NHmpiA"
      },
      "source": [
        "#compile model\r\n",
        "model.compile(optimizer='adam',loss='mean_squared_error')"
      ],
      "execution_count": null,
      "outputs": []
    },
    {
      "cell_type": "code",
      "metadata": {
        "colab": {
          "base_uri": "https://localhost:8080/"
        },
        "id": "GEWjNKGsnG7a",
        "outputId": "ec0193af-491a-4654-fac9-3fd26bb4bdae"
      },
      "source": [
        "#traindata\r\n",
        "model.fit(x_train, y_train, batch_size=16, epochs=10)"
      ],
      "execution_count": null,
      "outputs": [
        {
          "output_type": "stream",
          "text": [
            "Epoch 1/10\n",
            "135/135 [==============================] - 7s 30ms/step - loss: 0.0035\n",
            "Epoch 2/10\n",
            "135/135 [==============================] - 4s 30ms/step - loss: 4.7590e-05\n",
            "Epoch 3/10\n",
            "135/135 [==============================] - 4s 30ms/step - loss: 4.8322e-05\n",
            "Epoch 4/10\n",
            "135/135 [==============================] - 4s 31ms/step - loss: 4.2969e-05\n",
            "Epoch 5/10\n",
            "135/135 [==============================] - 4s 30ms/step - loss: 4.6308e-05\n",
            "Epoch 6/10\n",
            "135/135 [==============================] - 4s 31ms/step - loss: 4.0010e-05\n",
            "Epoch 7/10\n",
            "135/135 [==============================] - 4s 31ms/step - loss: 4.5645e-05\n",
            "Epoch 8/10\n",
            "135/135 [==============================] - 4s 31ms/step - loss: 4.1421e-05\n",
            "Epoch 9/10\n",
            "135/135 [==============================] - 4s 31ms/step - loss: 3.0471e-05\n",
            "Epoch 10/10\n",
            "135/135 [==============================] - 4s 32ms/step - loss: 3.1702e-05\n"
          ],
          "name": "stdout"
        },
        {
          "output_type": "execute_result",
          "data": {
            "text/plain": [
              "<tensorflow.python.keras.callbacks.History at 0x7f01535c5668>"
            ]
          },
          "metadata": {
            "tags": []
          },
          "execution_count": 14
        }
      ]
    },
    {
      "cell_type": "code",
      "metadata": {
        "id": "4wUNxJERnRiD"
      },
      "source": [
        "#create the testing data\r\n",
        "#creating array with scaled values from 2168 to 2218\r\n",
        "test_data = scaled_data[trainData - 60: , :]\r\n",
        "#create test dataset\r\n",
        "x_test = []\r\n",
        "y_test = dataset[trainData:, :] #values to be predicted\r\n",
        "for i in range (60,len(test_data)):\r\n",
        "  x_test.append(test_data[i-60:i, 0]) #last 50 values\r\n"
      ],
      "execution_count": null,
      "outputs": []
    },
    {
      "cell_type": "code",
      "metadata": {
        "id": "9G4OgrFtokBR"
      },
      "source": [
        "#convert the data to a numpy array\r\n",
        "x_test = np.array(x_test)"
      ],
      "execution_count": null,
      "outputs": []
    },
    {
      "cell_type": "code",
      "metadata": {
        "colab": {
          "base_uri": "https://localhost:8080/"
        },
        "id": "Bp-QZOCJo73d",
        "outputId": "6d2fd48a-5b93-4b75-c029-e03ee5eea108"
      },
      "source": [
        "#reshaping the data for LSTM with 3-d data\r\n",
        "x_test = np.reshape(x_test,(x_test.shape[0], x_test.shape[1], 1))\r\n",
        "x_test.shape"
      ],
      "execution_count": null,
      "outputs": [
        {
          "output_type": "execute_result",
          "data": {
            "text/plain": [
              "(555, 60, 1)"
            ]
          },
          "metadata": {
            "tags": []
          },
          "execution_count": 17
        }
      ]
    },
    {
      "cell_type": "code",
      "metadata": {
        "id": "_Z3vBgdmpKxJ"
      },
      "source": [
        "#predict the values\r\n",
        "predictions = model.predict(x_test)\r\n",
        "predictions = scaler.inverse_transform(predictions)"
      ],
      "execution_count": null,
      "outputs": []
    },
    {
      "cell_type": "code",
      "metadata": {
        "colab": {
          "base_uri": "https://localhost:8080/"
        },
        "id": "KnpjRViip4ME",
        "outputId": "565d8a52-25a3-409a-c243-178b0b2cbae6"
      },
      "source": [
        "#RMSE (to see how model performs)\r\n",
        "rmse = np.sqrt(np.mean(predictions - y_test) ** 2)\r\n",
        "rmse"
      ],
      "execution_count": null,
      "outputs": [
        {
          "output_type": "execute_result",
          "data": {
            "text/plain": [
              "0.02137568018457911"
            ]
          },
          "metadata": {
            "tags": []
          },
          "execution_count": 19
        }
      ]
    },
    {
      "cell_type": "code",
      "metadata": {
        "colab": {
          "base_uri": "https://localhost:8080/",
          "height": 650
        },
        "id": "1r7tOQhkqPq-",
        "outputId": "cb1c1687-2f2a-4afd-8c19-13c9ca91dd41"
      },
      "source": [
        "#plot the data\r\n",
        "train = data[:trainData]\r\n",
        "valid = data[trainData:]\r\n",
        "valid['Predictions'] = predictions\r\n",
        "\r\n",
        "#visualize the data\r\n",
        "plt.figure(figsize=(16,8))\r\n",
        "plt.title('Test Model')\r\n",
        "plt.xlabel('Date')\r\n",
        "plt.ylabel('Adj Close')\r\n",
        "plt.plot(train['Adj Close'])\r\n",
        "plt.plot(valid[['Adj Close', 'Predictions']])\r\n",
        "plt.legend(['Train', 'Val', 'Predictions'], loc = 'lower right')\r\n",
        "plt.show"
      ],
      "execution_count": null,
      "outputs": [
        {
          "output_type": "stream",
          "text": [
            "/usr/local/lib/python3.6/dist-packages/ipykernel_launcher.py:4: SettingWithCopyWarning: \n",
            "A value is trying to be set on a copy of a slice from a DataFrame.\n",
            "Try using .loc[row_indexer,col_indexer] = value instead\n",
            "\n",
            "See the caveats in the documentation: https://pandas.pydata.org/pandas-docs/stable/user_guide/indexing.html#returning-a-view-versus-a-copy\n",
            "  after removing the cwd from sys.path.\n"
          ],
          "name": "stderr"
        },
        {
          "output_type": "execute_result",
          "data": {
            "text/plain": [
              "<function matplotlib.pyplot.show>"
            ]
          },
          "metadata": {
            "tags": []
          },
          "execution_count": 20
        },
        {
          "output_type": "display_data",
          "data": {
            "image/png": "[encoded data removed]",
            "text/plain": [
              "<Figure size 1152x576 with 1 Axes>"
            ]
          },
          "metadata": {
            "tags": [],
            "needs_background": "light"
          }
        }
      ]
    },
    {
      "cell_type": "code",
      "metadata": {
        "colab": {
          "base_uri": "https://localhost:8080/",
          "height": 450
        },
        "id": "9f0fcyhtrol3",
        "outputId": "e73534a9-3207-44cd-e0be-41104956b881"
      },
      "source": [
        "#show actual and predicted prices\r\n",
        "valid"
      ],
      "execution_count": null,
      "outputs": [
        {
          "output_type": "execute_result",
          "data": {
            "text/html": [
              "<div>\n",
              "<style scoped>\n",
              "    .dataframe tbody tr th:only-of-type {\n",
              "        vertical-align: middle;\n",
              "    }\n",
              "\n",
              "    .dataframe tbody tr th {\n",
              "        vertical-align: top;\n",
              "    }\n",
              "\n",
              "    .dataframe thead th {\n",
              "        text-align: right;\n",
              "    }\n",
              "</style>\n",
              "<table border=\"1\" class=\"dataframe\">\n",
              "  <thead>\n",
              "    <tr style=\"text-align: right;\">\n",
              "      <th></th>\n",
              "      <th>Adj Close</th>\n",
              "      <th>Predictions</th>\n",
              "    </tr>\n",
              "    <tr>\n",
              "      <th>Date</th>\n",
              "      <th></th>\n",
              "      <th></th>\n",
              "    </tr>\n",
              "  </thead>\n",
              "  <tbody>\n",
              "    <tr>\n",
              "      <th>2018-10-26</th>\n",
              "      <td>52.634758</td>\n",
              "      <td>53.648685</td>\n",
              "    </tr>\n",
              "    <tr>\n",
              "      <th>2018-10-29</th>\n",
              "      <td>51.646793</td>\n",
              "      <td>53.567516</td>\n",
              "    </tr>\n",
              "    <tr>\n",
              "      <th>2018-10-30</th>\n",
              "      <td>51.904736</td>\n",
              "      <td>53.376755</td>\n",
              "    </tr>\n",
              "    <tr>\n",
              "      <th>2018-10-31</th>\n",
              "      <td>53.257713</td>\n",
              "      <td>53.160324</td>\n",
              "    </tr>\n",
              "    <tr>\n",
              "      <th>2018-11-01</th>\n",
              "      <td>54.075333</td>\n",
              "      <td>53.067520</td>\n",
              "    </tr>\n",
              "    <tr>\n",
              "      <th>...</th>\n",
              "      <td>...</td>\n",
              "      <td>...</td>\n",
              "    </tr>\n",
              "    <tr>\n",
              "      <th>2021-01-05</th>\n",
              "      <td>131.009995</td>\n",
              "      <td>133.901886</td>\n",
              "    </tr>\n",
              "    <tr>\n",
              "      <th>2021-01-06</th>\n",
              "      <td>126.599998</td>\n",
              "      <td>133.740448</td>\n",
              "    </tr>\n",
              "    <tr>\n",
              "      <th>2021-01-07</th>\n",
              "      <td>130.919998</td>\n",
              "      <td>133.036285</td>\n",
              "    </tr>\n",
              "    <tr>\n",
              "      <th>2021-01-08</th>\n",
              "      <td>132.050003</td>\n",
              "      <td>132.522903</td>\n",
              "    </tr>\n",
              "    <tr>\n",
              "      <th>2021-01-11</th>\n",
              "      <td>128.979996</td>\n",
              "      <td>132.234772</td>\n",
              "    </tr>\n",
              "  </tbody>\n",
              "</table>\n",
              "<p>555 rows × 2 columns</p>\n",
              "</div>"
            ],
            "text/plain": [
              "             Adj Close  Predictions\n",
              "Date                               \n",
              "2018-10-26   52.634758    53.648685\n",
              "2018-10-29   51.646793    53.567516\n",
              "2018-10-30   51.904736    53.376755\n",
              "2018-10-31   53.257713    53.160324\n",
              "2018-11-01   54.075333    53.067520\n",
              "...                ...          ...\n",
              "2021-01-05  131.009995   133.901886\n",
              "2021-01-06  126.599998   133.740448\n",
              "2021-01-07  130.919998   133.036285\n",
              "2021-01-08  132.050003   132.522903\n",
              "2021-01-11  128.979996   132.234772\n",
              "\n",
              "[555 rows x 2 columns]"
            ]
          },
          "metadata": {
            "tags": []
          },
          "execution_count": 21
        }
      ]
    },
    {
      "cell_type": "code",
      "metadata": {
        "colab": {
          "base_uri": "https://localhost:8080/"
        },
        "id": "ltT0ydXksJc-",
        "outputId": "0992dacd-6a46-40da-b3b8-2384f52e096d"
      },
      "source": [
        "#getting the quote (actual prediction)\r\n",
        "apple = DataReader('AAPL', 'yahoo', start = '2010-01-01', end = '2021-01-11')\r\n",
        "#new dataframe\r\n",
        "new_trainData = apple.filter (['Adj Close'])\r\n",
        "#get the data history\r\n",
        "last_50_days = new_trainData[-60:].values\r\n",
        "#scaleing data\r\n",
        "last_50_days_scaled = scaler.transform(last_50_days)\r\n",
        "#empty list\r\n",
        "X_test = []\r\n",
        "X_test.append(last_50_days_scaled)\r\n",
        "#converting to numpy array\r\n",
        "X_test = np.array(X_test)\r\n",
        "#reshaping\r\n",
        "X_test =np.reshape(X_test, (X_test.shape[0], X_test.shape[1], 1))\r\n",
        "#model predict\r\n",
        "pred_price = model.predict(X_test)\r\n",
        "pred_price = scaler.inverse_transform(pred_price)\r\n",
        "print(pred_price)"
      ],
      "execution_count": null,
      "outputs": [
        {
          "output_type": "stream",
          "text": [
            "[[131.79543]]\n"
          ],
          "name": "stdout"
        }
      ]
    },
    {
      "cell_type": "code",
      "metadata": {
        "id": "Lt5hsXD0Ksr7"
      },
      "source": [
        ""
      ],
      "execution_count": null,
      "outputs": []
    }
  ]
}